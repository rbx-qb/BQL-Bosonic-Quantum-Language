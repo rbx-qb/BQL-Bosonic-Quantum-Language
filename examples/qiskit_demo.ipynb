# Exemplo de código no notebook
from src.bql.qiskit_utils import create_register

# Criando registros quânticos
create_register("q1", 2)

