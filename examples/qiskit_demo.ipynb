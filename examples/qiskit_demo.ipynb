from src.bql.qiskit_utils import create_entangled_pair, plot_results

counts = create_entangled_pair()
plot_results(counts)

