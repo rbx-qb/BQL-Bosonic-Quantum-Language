{
  "cells": [
    {
      "cell_type": "code",
      "execution_count": null,
      "id": "xyz",
      "metadata": {},
      "outputs": [],
      "source": [
        "from src.bql.qiskit_utils import create_register"
      ]
    }
  ],
  "metadata": {
    "kernelspec": {
      "display_name": "Python 3",
      "language": "python",
      "name": "python3"
    },
    "language_info": {
      "codemirror_mode": {
        "name": "ipython",
        "version": 3
      },
      "file_extension": ".py",
      "mimetype": "text/x-python",
      "name": "python",
      "nbconvert_exporter": "python"
    }
  },
  "nbformat": 4,
  "nbformat_minor": 5
}

